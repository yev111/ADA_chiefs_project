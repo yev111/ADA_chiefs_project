{
 "cells": [
  {
   "cell_type": "markdown",
   "metadata": {},
   "source": [
    "# Data Wrangling\n",
    "\n",
    "of Project 'Demography behind household sizes in Switzerland and its change in time'"
   ]
  },
  {
   "cell_type": "code",
   "execution_count": 281,
   "metadata": {},
   "outputs": [],
   "source": [
    "%matplotlib inline\n",
    "import os\n",
    "import pandas as pd\n",
    "import numpy as np"
   ]
  },
  {
   "cell_type": "code",
   "execution_count": 132,
   "metadata": {},
   "outputs": [],
   "source": [
    "data_folder = './data/'\n",
    "wage_folder = data_folder+'Gross_monthly_wage_GMW/'"
   ]
  },
  {
   "cell_type": "markdown",
   "metadata": {},
   "source": [
    "## Datasets\n",
    "\n",
    "* **hh_sizes:** Distribution of Population in 1-6 person households for 2011 - 2017 || Municipality Level\n",
    "* **cantonal_parties:** Voter's shares of the political parties in Switzerland for 2007 - 2018 || Cantonal Level\n",
    "* **demographics_population:** Demographic information (incl. foreigners, age) for 2010 - 2017 || Cantonal Level\n",
    "* **wage_swiss_foreign:** Mean Income with quantiles and work types for 2008 - 2016 || Regional Level\n",
    "* **incomes:** Mean Incomes with age-distribution for the year 2007 || Municipality Level\n",
    "* **rental_13_16:** Rental averages for 2013 - 2016 || Regional Level\n",
    "* **rental_foreign:** Distribution of rents for 2012 - 2016 || Regional Level\n",
    "* **rental_sqm_demographics:** Living conditions (demographically) in percents  for 2011 - 2016 || Regional Level"
   ]
  },
  {
   "cell_type": "markdown",
   "metadata": {},
   "source": [
    "# Load and Prepare Data"
   ]
  },
  {
   "cell_type": "code",
   "execution_count": 241,
   "metadata": {},
   "outputs": [],
   "source": [
    "#Load raw data and load entire excel sheets\n",
    "hh_sizes = pd.read_excel(data_folder + 'HH_sizes_commune.xlsx', skiprows=3, skipfooter=10, sheet_name = None, usecols=list(range(9)))\n",
    "incomes = pd.read_csv(data_folder + 'Incomes.csv')\n",
    "cantonal_parties = pd.read_excel(data_folder + 'Kantonale Parlamentswahlen.xls', skiprows=3, skipfooter=10, sheet_name = None)\n",
    "demographics_population = pd.read_excel(data_folder + 'population_regions.xlsx', skiprows=4, skipfooter=10, sheet_name = None)\n",
    "wage_swiss_foreign_ch = pd.read_excel(wage_folder + 'GMW_switzerland.xlsx', skiprows=42, skipfooter=10, sheet_name = None, usecols = 10)\n",
    "wage_swiss_foreign_lake_ge = pd.read_excel(wage_folder + 'GMW_lake_geneva.xlsx', skiprows=42, skipfooter=10, sheet_name = None, usecols = 10)\n",
    "wage_swiss_foreign_mittelland = pd.read_excel(wage_folder + 'GMW_mittelland.xlsx', skiprows=42, skipfooter=10, sheet_name = None, usecols = 10)\n",
    "wage_swiss_foreign_north = pd.read_excel(wage_folder + 'GMW_north.xlsx', skiprows=42, skipfooter=10, sheet_name = None, usecols = 10)\n",
    "wage_swiss_foreign_zh = pd.read_excel(wage_folder + 'GMW_zurich.xlsx', skiprows=42, skipfooter=10, sheet_name = None, usecols = 10)\n",
    "wage_swiss_foreign_east = pd.read_excel(wage_folder + 'GMW_east.xlsx', skiprows=42, skipfooter=10, sheet_name = None, usecols = 10)\n",
    "wage_swiss_foreign_central = pd.read_excel(wage_folder + 'GMW_central.xlsx', skiprows=42, skipfooter=10, sheet_name = None, usecols = 10)\n",
    "wage_swiss_foreign_ti = pd.read_excel(wage_folder + 'GMW_ticino.xlsx', skiprows=42, skipfooter=10, sheet_name = None, usecols = 10)\n",
    "rental_11_13 = pd.read_excel(data_folder + 'rental_prices_age_11-13.xls', skiprows=8, skipfooter=10)\n",
    "rental_13_16_all = pd.read_excel(data_folder + 'rental_prices_age.xlsx', skiprows=5, skipfooter=11,sheet_name = None)\n",
    "rental_foreign_rooms = pd.read_excel(data_folder + 'rental_prices_nationality.xlsx', skiprows=4, skipfooter=11,sheet_name = None)\n",
    "rental_rooms_cities_11_13 = pd.read_excel(data_folder + 'rental_prices_room_size_11-13.xls', skiprows=8, skipfooter=12)\n",
    "rental_rooms_cities_12_14 = pd.read_excel(data_folder + 'rental_prices_room_size_12-14.xls', skiprows=7, skipfooter=10)\n",
    "rental_sqm_demographics = pd.read_excel(data_folder + 'rental_prices_size.xlsx', skiprows=3, skipfooter=21, sheet_name = None)\n"
   ]
  },
  {
   "cell_type": "code",
   "execution_count": 219,
   "metadata": {},
   "outputs": [
    {
     "data": {
      "text/plain": [
       "17"
      ]
     },
     "execution_count": 219,
     "metadata": {},
     "output_type": "execute_result"
    }
   ],
   "source": [
    "len(rental_11_13_rooms.columns)"
   ]
  },
  {
   "cell_type": "code",
   "execution_count": 220,
   "metadata": {},
   "outputs": [],
   "source": [
    "#Functions for the cleaning up of the excel sheets\n",
    "\n",
    "#rename the headers\n",
    "def rename_header(df, header):\n",
    "    for y in df.keys():\n",
    "        df[y].columns = header\n",
    "    return df\n",
    "\n",
    "#drop the NAN values in the sheets\n",
    "def drop_NA(df):\n",
    "    for y in df.keys():\n",
    "        df[y] = df[y].replace(r'^\\s*$',np.nan,regex=True)\n",
    "        df[y] = df[y].dropna(axis= 0,how = 'all')\n",
    "        df[y] = df[y].dropna(axis= 1,how = 'all')\n",
    "    return df\n",
    "\n",
    "#Select the selected rows\n",
    "def select_X_rows(df,num_rows):\n",
    "    for y in df.keys():\n",
    "        df[y] = df[y].iloc[:num_rows]\n",
    "    return df\n",
    "\n",
    "#rename the columns\n",
    "def rename_columns(df, new_names):\n",
    "    for y in df.keys():\n",
    "        df[y] = df[y].rename(index=str, columns=new_names)\n",
    "    return df\n",
    "\n",
    "#drop the input indexes for a new indexing\n",
    "def drop_index(df, ind, rows = True):\n",
    "    \n",
    "    if rows:\n",
    "        for y in df.keys():\n",
    "            df[y] = df[y].drop(ind).reset_index().drop('index', 1)\n",
    "    else:\n",
    "        for y in df.keys():\n",
    "            df[y] = df[y].drop(df[y].columns[ind], axis=1)\n",
    "    return df\n",
    "\n",
    "#cleaning of wage regions\n",
    "def clean_wage_region_data(df):\n",
    "    header= [\"Residents\",\"total_median\",\"quartile_from\",\"quartile_to\",\n",
    "            \"women_median\",\"women_quartile_from\",\"woman_quartile_to\",\n",
    "            \"men_median\",\"men_quartile_from\",\"man_quartile_to\"]\n",
    "    df = drop_NA(df)\n",
    "    df = select_X_rows(df,8)\n",
    "    df = rename_header(df, header)\n",
    "    return df\n",
    "\n",
    "#cleaning of rental prices\n",
    "def clean_rental_csv(df):\n",
    "    if len(df.columns) > 15:\n",
    "        drop_cols = [2,4,6,8,10,12,14]\n",
    "        df = df.drop(df.columns[drop_cols], axis=1)\n",
    "        header = [\"Region\",\"average_rent\",\"1 room\",\"2 rooms\",\n",
    "                    \"3 rooms\",\"4 rooms\",\"5 rooms\",\n",
    "                    \"6+ rooms\"]\n",
    "        df.columns = header\n",
    "        df = df.dropna(axis= 0,how = 'all')\n",
    "    return df"
   ]
  },
  {
   "cell_type": "markdown",
   "metadata": {},
   "source": [
    "#### Household sizes (from 2011 - 2017) - Most Important Layer - MUNICIPALITIES"
   ]
  },
  {
   "cell_type": "code",
   "execution_count": 221,
   "metadata": {},
   "outputs": [],
   "source": [
    "col_header = ['Commune', 'Total', '1-person households','2-person households', \n",
    "               '3-person households', '4-person households','5-person households', \n",
    "               '6-person or larger households', 'not plausible hh']\n",
    "hh_sizes = rename_header(hh_sizes, col_header)"
   ]
  },
  {
   "cell_type": "markdown",
   "metadata": {},
   "source": [
    "#### Political Parties (from 2007 - 2018) - CANTONS"
   ]
  },
  {
   "cell_type": "code",
   "execution_count": 222,
   "metadata": {},
   "outputs": [],
   "source": [
    "cantonal_parties = drop_NA(cantonal_parties)\n",
    "cantonal_parties = select_X_rows(cantonal_parties,26)\n",
    "rename_cols = {\"Unnamed: 0\": \"Canton\"}\n",
    "cantonal_parties = rename_columns(cantonal_parties, rename_cols)"
   ]
  },
  {
   "cell_type": "markdown",
   "metadata": {},
   "source": [
    "#### Demographics Population (from 2010 - 2017) - CANTONS"
   ]
  },
  {
   "cell_type": "code",
   "execution_count": 223,
   "metadata": {},
   "outputs": [],
   "source": [
    "demographics_population = drop_NA(demographics_population)\n",
    "rename_cols= {\"Unnamed: 0\": \"Region\",\n",
    "             \"Unnamed: 1\":\"Population\",\n",
    "             \"Urban core\":\"Urban core area\",\n",
    "             \"Area influenced\":\"influenced by urban cores\",\n",
    "             \"Area beyond\":\"influenced beyond urban cores\"}\n",
    "demographics_population = rename_columns(demographics_population, rename_cols)\n",
    "drop_indices = ['0','1']\n",
    "if len(demographics_population['2016']) > 35:\n",
    "    demographics_population = drop_index(demgraphics_population, drop_indices)"
   ]
  },
  {
   "cell_type": "markdown",
   "metadata": {},
   "source": [
    "#### Mean Wage Foreigners/Swiss (2008/2010/2012/2014/2016) - REGIONS"
   ]
  },
  {
   "cell_type": "code",
   "execution_count": 224,
   "metadata": {},
   "outputs": [],
   "source": [
    "wage_swiss_foreign_ch = clean_wage_region_data(wage_swiss_foreign_ch)\n",
    "wage_swiss_foreign_lake_ge = clean_wage_region_data(wage_swiss_foreign_lake_ge)\n",
    "wage_swiss_foreign_mittelland = clean_wage_region_data(wage_swiss_foreign_mittelland)\n",
    "wage_swiss_foreign_north = clean_wage_region_data(wage_swiss_foreign_north)\n",
    "wage_swiss_foreign_zh = clean_wage_region_data(wage_swiss_foreign_zh)\n",
    "wage_swiss_foreign_east = clean_wage_region_data(wage_swiss_foreign_east)\n",
    "wage_swiss_foreign_central = clean_wage_region_data(wage_swiss_foreign_central)\n",
    "wage_swiss_foreign_ti = clean_wage_region_data(wage_swiss_foreign_ti)"
   ]
  },
  {
   "cell_type": "markdown",
   "metadata": {},
   "source": [
    "**Note :** The wage level with \"No management function\" was chosen."
   ]
  },
  {
   "cell_type": "markdown",
   "metadata": {},
   "source": [
    "#### Rental Prices (from 2011 - 2016) - REGIONS"
   ]
  },
  {
   "cell_type": "code",
   "execution_count": 244,
   "metadata": {},
   "outputs": [],
   "source": [
    "drop_cols = [2,4,6,8,10,12,14,16]\n",
    "if len(rental_11_13.columns) > 14:\n",
    "    rental_11_13 = rental_11_13.drop(rental_11_13.columns[drop_cols], axis=1)\n",
    "header = [\"Region\",\"average_rent\",\"<25\",\"25-64\",\n",
    "            \"65+\",\"<25 and 25-64\",\"<25 and 65+\",\n",
    "            \"25-64 and 65+\",\"<25, 25-64, and 65+\"]\n",
    "rental_11_13.columns = header\n",
    "rental_11_13 = rental_11_13.dropna(axis= 0,how = 'all')\n",
    "drop_rows = [\"1 Zimmer\",\"2 Zimmer\",\"3 Zimmer\",\"4 Zimmer\", \"5 Zimmer\", \"6 Zimmer und mehr\"]\n",
    "\n",
    "for value in drop_rows:\n",
    "    rental_11_13 = rental_11_13.drop(rental_11_13.index[rental_11_13[\"Region\"] == value])\n"
   ]
  },
  {
   "cell_type": "code",
   "execution_count": 254,
   "metadata": {},
   "outputs": [],
   "source": [
    "drop_cols = [2,4,6,8,10,12,14,16]\n",
    "if len(rental_13_16_all['2016'].columns) > 14:\n",
    "    rental_13_16_all = drop_index(rental_13_16_all, drop_cols, rows = False)\n",
    "rental_13_16 = rename_header(rental_13_16_all, header)"
   ]
  },
  {
   "cell_type": "markdown",
   "metadata": {},
   "source": [
    "**Legend :** Average rental cost in which specific demographics reside. For instance the column \"<25, 25-64, and 65+\" means that in this household, resides at least a person that is less than 25 years, a person between 25-64 years, and also a person who is 65 and older. "
   ]
  },
  {
   "cell_type": "markdown",
   "metadata": {},
   "source": [
    "#### Rents Distribution Swiss/Foreigner (from 2012 - 2016) - REGIONS"
   ]
  },
  {
   "cell_type": "code",
   "execution_count": 168,
   "metadata": {},
   "outputs": [],
   "source": [
    "drop_cols = [2,4,6,8]\n",
    "if len(rental_foreign['2016'].columns) > 6:\n",
    "    rental_foreign = drop_index(rental_foreign_rooms, drop_cols, rows = False)\n",
    "header = [\"Region\",\"average rent all\",\"household with only Swiss\",\n",
    "            \"hh with min 1 Swiss and 1 foreigner\",\"household with only foreigners\"]\n",
    "rental_foreign = rename_header(rental_foreign, header)\n",
    "\n",
    "drop_rows = [\"1 Zimmer\",\"2 Zimmer\",\"3 Zimmer\",\"4 Zimmer\", \"5 Zimmer\", \"6 Zimmer und mehr\"]\n",
    "drop_ind = []\n",
    "for i, value in enumerate(rental_foreign['2016'][\"Region\"]):\n",
    "    for item in drop_rows:\n",
    "        if value == item:\n",
    "            drop_ind.append(i)\n",
    "\n",
    "rental_foreign = drop_index(rental_foreign, drop_ind)"
   ]
  },
  {
   "cell_type": "markdown",
   "metadata": {},
   "source": [
    "#### Percentual Living Conditions (from 2011 - 2016) - REGIONS\n"
   ]
  },
  {
   "cell_type": "code",
   "execution_count": 171,
   "metadata": {},
   "outputs": [],
   "source": [
    "drop_ind = [2,4,6,8]\n",
    "if len(rental_sqm_demographics['2016'].columns) > 6:\n",
    "    rental_sqm_demographics = drop_index(rental_sqm_demographics, drop_ind, rows = False)\n",
    "rental_sqm_demographics = drop_NA(rental_sqm_demographics)\n",
    "\n",
    "#Comment: Better cleaning possible with MultiIndexes, can be realized when dataset is used"
   ]
  },
  {
   "cell_type": "markdown",
   "metadata": {},
   "source": [
    "# Save used data to csv"
   ]
  },
  {
   "cell_type": "code",
   "execution_count": 266,
   "metadata": {},
   "outputs": [],
   "source": [
    "data_wrangled = './data/wrangled_data/'"
   ]
  },
  {
   "cell_type": "code",
   "execution_count": 280,
   "metadata": {},
   "outputs": [],
   "source": [
    "#export of the relevant datasets to csvs (cleaned up). Wages are yet missing, as incomes.csv does also include\n",
    "#the revenues of the people in higher resolution (municipality base). in the export, a .csv file is created\n",
    "#for each year of the dataset (easier handling afterwards)\n",
    "\n",
    "for i in hh_sizes:\n",
    "    hh_sizes[str(i)].to_csv(data_wrangled + 'hh_sizes{}.csv'.format(i))\n",
    "\n",
    "for i in cantonal_parties:\n",
    "    cantonal_parties[str(i)].to_csv(data_wrangled + 'elections{}.csv'.format(i))\n",
    "    \n",
    "for i in demographics_population:\n",
    "    demographics_population[str(i)].to_csv(data_wrangled + 'demographics{}.csv'.format(i))\n",
    "    \n",
    "for i in rental_13_16:\n",
    "    rental_13_16[str(i)].to_csv(data_wrangled + 'rentals{}.csv'.format(i))\n",
    "    \n",
    "for i in rental_foreign:\n",
    "    rental_foreign[str(i)].to_csv(data_wrangled + 'rental_foreigners{}.csv'.format(i))\n",
    "    \n",
    "for i in rental_sqm_demographics:\n",
    "    rental_sqm_demographics[str(i)].to_csv(data_wrangled + 'rental_demographics{}.csv'.format(i))\n"
   ]
  },
  {
   "cell_type": "code",
   "execution_count": null,
   "metadata": {},
   "outputs": [],
   "source": []
  }
 ],
 "metadata": {
  "kernelspec": {
   "display_name": "Python 3",
   "language": "python",
   "name": "python3"
  },
  "language_info": {
   "codemirror_mode": {
    "name": "ipython",
    "version": 3
   },
   "file_extension": ".py",
   "mimetype": "text/x-python",
   "name": "python",
   "nbconvert_exporter": "python",
   "pygments_lexer": "ipython3",
   "version": "3.6.4"
  }
 },
 "nbformat": 4,
 "nbformat_minor": 2
}
