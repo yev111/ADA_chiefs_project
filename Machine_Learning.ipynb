{
 "cells": [
  {
   "cell_type": "code",
   "execution_count": 1,
   "metadata": {
    "scrolled": true
   },
   "outputs": [
    {
     "name": "stderr",
     "output_type": "stream",
     "text": [
      "/Users/yev/anaconda3/lib/python3.6/site-packages/sklearn/ensemble/weight_boosting.py:29: DeprecationWarning: numpy.core.umath_tests is an internal NumPy module and should not be imported. It will be removed in a future NumPy release.\n",
      "  from numpy.core.umath_tests import inner1d\n",
      "/Users/yev/anaconda3/lib/python3.6/site-packages/sklearn/cross_validation.py:41: DeprecationWarning: This module was deprecated in version 0.18 in favor of the model_selection module into which all the refactored classes and functions are moved. Also note that the interface of the new CV iterators are different from that of this module. This module will be removed in 0.20.\n",
      "  \"This module will be removed in 0.20.\", DeprecationWarning)\n"
     ]
    }
   ],
   "source": [
    "%matplotlib inline\n",
    "import os\n",
    "import pandas as pd\n",
    "import json\n",
    "import folium\n",
    "import numpy as np\n",
    "import matplotlib.pyplot as plt\n",
    "import datetime, time\n",
    "import seaborn as sns\n",
    "import sklearn\n",
    "from sklearn import tree, ensemble\n",
    "from sklearn.cross_validation import KFold\n",
    "from sklearn.model_selection import train_test_split, KFold, cross_val_predict, cross_val_score, GridSearchCV\n",
    "from sklearn import datasets, linear_model\n",
    "from sklearn.feature_selection import SelectKBest, f_classif, chi2\n",
    "from sklearn.ensemble import RandomForestClassifier, RandomForestRegressor\n",
    "from sklearn.metrics import accuracy_score, f1_score, precision_score, recall_score, classification_report, confusion_matrix\n",
    "from sklearn import svm\n",
    "\n",
    "from scipy import stats"
   ]
  },
  {
   "cell_type": "code",
   "execution_count": 2,
   "metadata": {},
   "outputs": [],
   "source": [
    "data_dir = 'data/wrangled_data/'"
   ]
  },
  {
   "cell_type": "code",
   "execution_count": 3,
   "metadata": {},
   "outputs": [],
   "source": [
    "def select_rows(df,from_col,row_list):\n",
    "    df = df.dropna()\n",
    "    df = df[df[from_col].str.contains(row_list)].set_index(from_col)\n",
    "    return df\n",
    "\n",
    "def get_income(wage_df):\n",
    "    swiss = float(wage_df.loc[wage_df.index.str.contains('Swiss')].values[0][0])/float(wage_df.loc[wage_df.index.str.contains('TOTAL')].values[0][0])\n",
    "    foreign = float(wage_df.loc[wage_df.index.str.contains('Foreigners')].values[0][0])/float(wage_df.loc[wage_df.index.str.contains('TOTAL')].values[0][0])\n",
    "    return swiss, foreign\n",
    "\n",
    "def get_med_income_df():\n",
    "    region = ['central','east','lake_ge','mittelland','north','ti','zh']\n",
    "    use_rows = 'TOTAL|Swiss|Foreigners'\n",
    "    med_income = pd.read_csv('med_incomes.csv')\n",
    "    med_income16 = med_income.loc[:,med_income.columns.isin(['Name','2016','region'])]\n",
    "    wages_16 = []\n",
    "    for r in region:\n",
    "        wages_16.append(pd.read_csv(data_dir+'wages2016'+r+'.csv', usecols=['Residents','total_median']).dropna(how='all').rename(columns={'Residents': 'Residents_'+r}))\n",
    "    for i in range(len(wages_16)):\n",
    "        wages_16[i] = select_rows(wages_16[i],'Residents_'+region[i], use_rows)\n",
    "    swiss = []\n",
    "    foreign = []\n",
    "    for reg in wages_16:\n",
    "        x, y = get_income(reg)\n",
    "        swiss.append(x)\n",
    "        foreign.append(y)\n",
    "    med_income16['Swiss_income'] = np.nan\n",
    "    med_income16['Foreign_income'] = np.nan\n",
    "    for reg, sw, fo in zip(region,swiss,foreign):\n",
    "        med_income16['Swiss_income'] = med_income16.apply(lambda r: (r['2016'] * sw * 100) if r['region'] == reg else r['Swiss_income'], axis=1)\n",
    "        med_income16['Foreign_income'] = med_income16.apply(lambda r: (r['2016'] * fo * 100) if r['region'] == reg else r['Foreign_income'], axis=1)\n",
    "    med_income16 = med_income16.drop('2016', axis=1)\n",
    "    return med_income16\n",
    "\n",
    "def get_household_df():\n",
    "    cols = ['Commune','1HH','2HH','3HH','4HH','5HH','6HH']\n",
    "    rename_cols = {'1HH': '1', '2HH': '2', '3HH': '3', '4HH': '4', '5HH': '5', '6HH': '6'}\n",
    "    df = pd.read_csv(data_dir + 'hh_sizes2016.csv', usecols=cols)\n",
    "    if df.iloc[0][1] > 1000000:\n",
    "        df = df.drop(0)\n",
    "    df = df.set_index('Commune', drop=True)\n",
    "    df.rename(columns=rename_cols, inplace=True)\n",
    "    return df"
   ]
  },
  {
   "cell_type": "code",
   "execution_count": 4,
   "metadata": {},
   "outputs": [],
   "source": [
    "def get_pop(df):\n",
    "    df['Foreigners_pop'] = df.apply(lambda row: row['Population'] * (row[\"Ausländer in %\"] / 100), axis=1)\n",
    "    df['Swiss_pop'] = df.apply(lambda row: row['Population'] - row['Foreigners_pop'], axis=1)\n",
    "    df['Swiss'] = 1\n",
    "    df = df.drop(['Population',\"Ausländer in %\"], axis=1)\n",
    "    return df\n",
    "\n",
    "def get_region(df):\n",
    "    region_list = ['central','east','lake_ge','mittelland','north','ti','zh']\n",
    "    r = []\n",
    "    for region in df['region']:\n",
    "        for i, reg in enumerate(region_list,1):\n",
    "            if region == reg:\n",
    "                r.append(i)\n",
    "    return r\n",
    "\n",
    "def get_Swiss():\n",
    "    use_cols = ['Gemeindename',\"Ausländer in %\",\"Bevölkerungs-dichte pro km²\",\"Durchschnittliche Haushaltsgrösse in Personen\",'Anzahl Privathaushalte']\n",
    "    df_income = get_med_income_df()\n",
    "    df_hh = get_household_df()\n",
    "    df_swfo = pd.read_csv('data/foreignswiss.csv', usecols=use_cols).drop(0)\n",
    "    cols_drop = ['Gemeindename', 'Name']\n",
    "    #columns_drop = ['2016','Kleine Rechtsparteien','Rohe Heiratssziffer','Rohe Scheidungsziffer','Rohe Geburtenziffer','Rohe Sterbeziffer','PdA/Sol.','EVP/CSP','GLP','BDP','GPS','Neu gebaute Wohnungen pro 1000 Einwohner','Sozialhilfequote','Leerwohnungs-ziffer','im 1. Sektor','im 2. Sektor','im 3. Sektor','im 1. Sektor.1','im 2. Sektor.1','im 3. Sektor.1']\n",
    "    df_melt = pd.melt(df_hh.reset_index(), id_vars=['Commune'], value_vars=['1','2','3','4','5','6'], var_name='HH_size', value_name='Population')\n",
    "    df_melt = df_melt.set_index('Commune', drop=True).sort_values('Commune', ascending=True)\n",
    "    com_merged = pd.merge(df_swfo,df_income,left_on='Gemeindename', right_on='Name')\n",
    "    df_merged = com_merged.merge(df_melt, left_on='Gemeindename', right_index=True).drop(columns= cols_drop, axis=1)\n",
    "    df = df_merged.convert_objects(convert_numeric=True).fillna(0)\n",
    "    df_swiss = get_pop(df)\n",
    "    region_num = get_region(df_swiss)\n",
    "    df_swiss['region_num'] = region_num\n",
    "    df_swiss = df_swiss.drop('region', axis=1)\n",
    "    df_for = df_swiss.copy()\n",
    "    df_swiss = df_swiss.rename(columns={'Swiss_pop': \"population\", 'Swiss_income': \"income\"}).drop(['Foreign_income', 'Foreigners_pop'], axis=1)\n",
    "    df_for['Swiss'] = 0\n",
    "    df_for = df_for.rename(columns={'Foreigners_pop': \"population\", 'Foreign_income': \"income\"}).drop(['Swiss_income', 'Swiss_pop'], axis=1)\n",
    "    df = pd.concat([df_swiss, df_for])\n",
    "    return df\n",
    "\n",
    "def get_X_Y(df):\n",
    "    Y = df.HH_size\n",
    "    X = df.drop(columns='HH_size', axis=1)\n",
    "    return X, Y\n",
    "\n",
    "def get_mean(region_num,cols, swiss):\n",
    "    df_reg_list = []\n",
    "    for ind, item in enumerate(X['region_num']):\n",
    "        if item == region_num:\n",
    "            df_reg_list.append(X.iloc[ind])\n",
    "    df = pd.DataFrame(df_reg_list)\n",
    "    df = df.loc[df['Swiss'] == swiss]\n",
    "    return df[cols].mean()\n",
    "\n",
    "def pred_HH(income, swiss, region):\n",
    "    #Region number from 1 to 7\n",
    "    reg_dict = ['central','east','lake_ge','mittelland','north','ti','zh']\n",
    "    cols = ['Bevölkerungs-dichte pro km²','Anzahl Privathaushalte', 'Durchschnittliche Haushaltsgrösse in Personen', 'income', 'population', 'Swiss','region_num']\n",
    "    data = [(get_mean(region,cols[0], swiss), get_mean(region,cols[1], swiss), get_mean(region,cols[2], swiss), income, get_mean(region,cols[4], swiss), swiss, region)]\n",
    "    df = pd.DataFrame(data, columns=cols)\n",
    "    CV_rfr = RandomForestClassifier(\n",
    "            n_estimators= 100, \n",
    "            max_depth=10\n",
    "            )\n",
    "    CV_rfr.fit(X, Y)\n",
    "    print(CV_rfr.predict(df))\n",
    "\n",
    "def get_hh_pred(income, Swiss):\n",
    "    #Taking the best parameters from the Random Forest Classifier and Grid Search\n",
    "    CV_rfr = RandomForestClassifier(\n",
    "                n_estimators= 100, \n",
    "                max_depth=10\n",
    "                )\n",
    "    CV_rfr.fit(X_train, y_train)\n",
    "    \n",
    "    cols = ['Bevölkerungs-dichte pro km²','Anzahl Privathaushalte', 'Durchschnittliche Haushaltsgrösse in Personen', 'income', 'population', 'Swiss','region_num']\n",
    "    #test = pd.DataFrame([{'Bevölkerungs-dichte pro km²': np.nan, 'Anzahl Privathaushalte':np.nan, 'Durchschnittliche Haushaltsgrösse in Personen': np.nan, 'income': income, 'population': np.nan, 'Swiss': Swiss}])\n",
    "    \n",
    "    # Set threshold and define linspace function, define threshold application\n",
    "    region = [1,2,3,4,5,6,7]\n",
    "    predicton = []\n",
    "    for i in region:\n",
    "        data = [(get_mean(i,cols[0], Swiss), get_mean(i,cols[1], Swiss), get_mean(i,cols[2], Swiss), income, get_mean(i,cols[4], Swiss), Swiss, i)]\n",
    "        test = pd.DataFrame(data, columns=cols)\n",
    "        pred = CV_rfr.predict(test)\n",
    "        predicton.append(pred)\n",
    "    \n",
    "    # Plot the performance scores with respect to its threshold for all four properties\n",
    "    # Plot the Adopted part with the threshold\n",
    "    plt.figure(figsize=(12, 8))\n",
    "    plt.xlabel(\"Region\")\n",
    "    plt.ylabel(\"Household size\")\n",
    "    plt.plot(region, predicton, label='household size')\n",
    "    plt.savefig('randomforest_Region_'+str(Swiss)+'_'+str(income)+'.png', dpi=200)\n",
    "    \n",
    "def random_forest(X_train, y_train, X_test, y_test, estimator):\n",
    "    #Taking the accuracy for the estimator passed with max_depth 10\n",
    "    CV_rfr = RandomForestClassifier(\n",
    "                    n_estimators= estimator, \n",
    "                    max_depth=10\n",
    "                    )\n",
    "    CV_rfr.fit(X_train, y_train)\n",
    "    prediction = CV_rfr.predict(X_test)\n",
    "    accuracy = accuracy_score(y_test, prediction)\n",
    "    return accuracy\n",
    "\n",
    "def get_random_estimators():\n",
    "    # Set threshold and define linspace function, define threshold application\n",
    "    n_estimators = np.linspace(5, 200, num=50, dtype='int', endpoint=True)\n",
    "    accuracy = []\n",
    "    for i in n_estimators:\n",
    "        acc = random_forest(X_train, y_train, X_test, y_test, i)\n",
    "        accuracy.append(acc)\n",
    "    \n",
    "    # Plot the performance scores with respect to its threshold for all four properties\n",
    "    # Plot the Adopted part with the threshold\n",
    "    plt.figure(figsize=(12, 8))\n",
    "    plt.title('Random Forest Predictor for max_depth = 10',fontsize=15)\n",
    "    plt.xlabel(\"n_estimators\")\n",
    "    plt.ylabel(\"Accuracy\")\n",
    "    ymax = max(accuracy)\n",
    "    xpos = accuracy.index(ymax)\n",
    "    xmax = n_estimators[xpos]\n",
    "    plt.plot(xmax, ymax, 'ro')\n",
    "    plt.annotate([np.round(xmax,3),np.round(ymax,3)], \n",
    "                 xy=(xmax, ymax))\n",
    "    plt.plot(n_estimators, accuracy, label='accuracy')\n",
    "    plt.savefig('randomforest_accuracy.png',dpi=200)\n"
   ]
  },
  {
   "cell_type": "code",
   "execution_count": 5,
   "metadata": {
    "scrolled": true
   },
   "outputs": [
    {
     "name": "stderr",
     "output_type": "stream",
     "text": [
      "/Users/yev/anaconda3/lib/python3.6/site-packages/ipykernel_launcher.py:27: SettingWithCopyWarning: \n",
      "A value is trying to be set on a copy of a slice from a DataFrame.\n",
      "Try using .loc[row_indexer,col_indexer] = value instead\n",
      "\n",
      "See the caveats in the documentation: http://pandas.pydata.org/pandas-docs/stable/indexing.html#indexing-view-versus-copy\n",
      "/Users/yev/anaconda3/lib/python3.6/site-packages/ipykernel_launcher.py:28: SettingWithCopyWarning: \n",
      "A value is trying to be set on a copy of a slice from a DataFrame.\n",
      "Try using .loc[row_indexer,col_indexer] = value instead\n",
      "\n",
      "See the caveats in the documentation: http://pandas.pydata.org/pandas-docs/stable/indexing.html#indexing-view-versus-copy\n",
      "/Users/yev/anaconda3/lib/python3.6/site-packages/ipykernel_launcher.py:30: SettingWithCopyWarning: \n",
      "A value is trying to be set on a copy of a slice from a DataFrame.\n",
      "Try using .loc[row_indexer,col_indexer] = value instead\n",
      "\n",
      "See the caveats in the documentation: http://pandas.pydata.org/pandas-docs/stable/indexing.html#indexing-view-versus-copy\n",
      "/Users/yev/anaconda3/lib/python3.6/site-packages/ipykernel_launcher.py:31: SettingWithCopyWarning: \n",
      "A value is trying to be set on a copy of a slice from a DataFrame.\n",
      "Try using .loc[row_indexer,col_indexer] = value instead\n",
      "\n",
      "See the caveats in the documentation: http://pandas.pydata.org/pandas-docs/stable/indexing.html#indexing-view-versus-copy\n",
      "/Users/yev/anaconda3/lib/python3.6/site-packages/ipykernel_launcher.py:28: FutureWarning: convert_objects is deprecated.  To re-infer data dtypes for object columns, use DataFrame.infer_objects()\n",
      "For all other conversions use the data-type specific converters pd.to_datetime, pd.to_timedelta and pd.to_numeric.\n"
     ]
    }
   ],
   "source": [
    "swiss_foreign = get_Swiss()\n",
    "X, Y = get_X_Y(swiss_foreign)"
   ]
  },
  {
   "cell_type": "code",
   "execution_count": 6,
   "metadata": {},
   "outputs": [],
   "source": [
    "X_train, X_test, y_train, y_test = train_test_split(X, Y, test_size=0.25, random_state=42)"
   ]
  },
  {
   "cell_type": "code",
   "execution_count": 457,
   "metadata": {},
   "outputs": [
    {
     "name": "stdout",
     "output_type": "stream",
     "text": [
      "{'max_depth': 10, 'n_estimators': 100}\n"
     ]
    }
   ],
   "source": [
    "rfc = RandomForestClassifier() \n",
    "\n",
    "estimators = [8, 16, 32,64, 80, 100, 120, 140, 160, 180]\n",
    "depth = [1, 2, 4, 6, 8, 10, 12, 14, 16, 18, 20]\n",
    "\n",
    "# Use a grid over parameters of interest\n",
    "param_grid = { \n",
    "           \"n_estimators\" : estimators,\n",
    "           \"max_depth\" : depth\n",
    "            }\n",
    "for i in depth:\n",
    "    CV_rfc = GridSearchCV(estimator=rfc, param_grid=param_grid, cv= 5)\n",
    "CV_rfc.fit(X_train, y_train)\n",
    "print(CV_rfc.best_params_)"
   ]
  },
  {
   "cell_type": "code",
   "execution_count": 7,
   "metadata": {},
   "outputs": [
    {
     "data": {
      "text/plain": [
       "0.3447253433208489"
      ]
     },
     "execution_count": 7,
     "metadata": {},
     "output_type": "execute_result"
    }
   ],
   "source": [
    "CV_rfr = RandomForestClassifier(\n",
    "                    n_estimators= 100, \n",
    "                    max_depth=10\n",
    "                    )\n",
    "CV_rfr.fit(X_train, y_train)\n",
    "prediction = CV_rfr.predict(X_test)\n",
    "accuracy_score(y_test, prediction)"
   ]
  },
  {
   "cell_type": "code",
   "execution_count": 11,
   "metadata": {},
   "outputs": [
    {
     "name": "stdout",
     "output_type": "stream",
     "text": [
      "[1]\n"
     ]
    }
   ],
   "source": [
    "pred_HH(6000, 1, 3)"
   ]
  },
  {
   "cell_type": "code",
   "execution_count": 12,
   "metadata": {},
   "outputs": [
    {
     "name": "stdout",
     "output_type": "stream",
     "text": [
      "[2]\n"
     ]
    }
   ],
   "source": [
    "pred_HH(6000, 0, 3)"
   ]
  },
  {
   "cell_type": "code",
   "execution_count": 10,
   "metadata": {},
   "outputs": [
    {
     "data": {
      "image/png": "[encoded data removed]",
      "text/plain": [
       "<Figure size 864x576 with 1 Axes>"
      ]
     },
     "metadata": {},
     "output_type": "display_data"
    }
   ],
   "source": [
    "get_random_estimators()"
   ]
  },
  {
   "cell_type": "code",
   "execution_count": null,
   "metadata": {},
   "outputs": [],
   "source": []
  }
 ],
 "metadata": {
  "kernelspec": {
   "display_name": "Python 3",
   "language": "python",
   "name": "python3"
  },
  "language_info": {
   "codemirror_mode": {
    "name": "ipython",
    "version": 3
   },
   "file_extension": ".py",
   "mimetype": "text/x-python",
   "name": "python",
   "nbconvert_exporter": "python",
   "pygments_lexer": "ipython3",
   "version": "3.6.5"
  }
 },
 "nbformat": 4,
 "nbformat_minor": 2
}
